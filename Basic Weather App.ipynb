{
 "cells": [
  {
   "cell_type": "code",
   "execution_count": 7,
   "id": "ee73f00d-3821-4271-b442-4ebd6c1ee3c9",
   "metadata": {},
   "outputs": [
    {
     "name": "stdin",
     "output_type": "stream",
     "text": [
      "Enter city name:  Vijayawada\n"
     ]
    },
    {
     "name": "stdout",
     "output_type": "stream",
     "text": [
      "Weather in Vijayawada:\n",
      "Description: broken clouds\n",
      "Temperature: 27.5C\n",
      "Humidity: 73%\n",
      "Wind Speed: 0.91 m/s\n"
     ]
    }
   ],
   "source": [
    "#Weather Report App\n",
    "import requests # Corrected the module name to 'requests'\n",
    "def get_weather(city_name, api_key):\n",
    "    base_url = \"https://api.openweathermap.org/data/2.5/weather\"\n",
    "    params = {\n",
    "        \"q\": city_name,\n",
    "        \"appid\": api_key,\n",
    "        \"units\": \"metric\"\n",
    "    }\n",
    "\n",
    "    try:\n",
    "        response = requests.get(base_url, params=params)\n",
    "        data = response.json()\n",
    "\n",
    "        if data[\"cod\"] == 200:\n",
    "            weather = data[\"weather\"][0][\"description\"]\n",
    "            temperature = data[\"main\"][\"temp\"]\n",
    "            humidity = data[\"main\"][\"humidity\"]\n",
    "            wind_speed = data[\"wind\"][\"speed\"]\n",
    "\n",
    "            print(f\"Weather in {city_name}:\")\n",
    "            print(f\"Description: {weather}\")\n",
    "            print(f\"Temperature: {temperature}C\")\n",
    "            print(f\"Humidity: {humidity}%\")\n",
    "            print(f\"Wind Speed: {wind_speed} m/s\")\n",
    "        else:\n",
    "            print(f\"City {city_name} not found. Please check the name.\")\n",
    "    except Exception as e:\n",
    "        print(f\"Error Occurred: {e}\")\n",
    "\n",
    "if __name__ == \"__main__\":\n",
    "    api_key = \"447b4906154dd3718b68013d01970267\"\n",
    "\n",
    "    city_name = input(\"Enter city name: \")\n",
    "    get_weather(city_name, api_key)"
   ]
  }
 ],
 "metadata": {
  "kernelspec": {
   "display_name": "Python 3 (ipykernel)",
   "language": "python",
   "name": "python3"
  },
  "language_info": {
   "codemirror_mode": {
    "name": "ipython",
    "version": 3
   },
   "file_extension": ".py",
   "mimetype": "text/x-python",
   "name": "python",
   "nbconvert_exporter": "python",
   "pygments_lexer": "ipython3",
   "version": "3.13.2"
  }
 },
 "nbformat": 4,
 "nbformat_minor": 5
}
