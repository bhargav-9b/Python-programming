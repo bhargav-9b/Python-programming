{
 "cells": [
  {
   "cell_type": "code",
   "execution_count": 2,
   "id": "94b9a4e7-ba7b-4a59-b827-f6f1c11d886d",
   "metadata": {},
   "outputs": [
    {
     "name": "stdin",
     "output_type": "stream",
     "text": [
      "Enter a message to send to the server:  hello\n"
     ]
    },
    {
     "name": "stdout",
     "output_type": "stream",
     "text": [
      "Received from server: hi\n"
     ]
    },
    {
     "name": "stdin",
     "output_type": "stream",
     "text": [
      "Enter a message to send to the server:  how are you\n"
     ]
    },
    {
     "name": "stdout",
     "output_type": "stream",
     "text": [
      "Received from server: iam fine!\n"
     ]
    },
    {
     "name": "stdin",
     "output_type": "stream",
     "text": [
      "Enter a message to send to the server:  What about you\n"
     ]
    },
    {
     "name": "stdout",
     "output_type": "stream",
     "text": [
      "Received from server: iam ok!\n"
     ]
    },
    {
     "name": "stdin",
     "output_type": "stream",
     "text": [
      "Enter a message to send to the server:  bye\n"
     ]
    },
    {
     "name": "stdout",
     "output_type": "stream",
     "text": [
      "Closing connection...\n"
     ]
    }
   ],
   "source": [
    "#Chat applations\n",
    "#Client\n",
    "# import required modules\n",
    "import socket\n",
    "\n",
    "client_socket = socket.socket(socket.AF_INET, socket.SOCK_STREAM)\n",
    "host = 'localhost'\n",
    "port = 12345\n",
    "client_socket.connect((host, port))\n",
    "\n",
    "while True:\n",
    "    message = input(\"Enter a message to send to the server: \")\n",
    "    client_socket.send(message.encode())\n",
    "    if message.lower() == \"bye\":\n",
    "        print(\"Closing connection...\")\n",
    "        break\n",
    "    response = client_socket.recv(1024)\n",
    "    print(f\"Received from server: {response.decode()}\")\n",
    "    if response.decode().lower()==\"bye\":\n",
    "        print(\"server sent bye:closing connection\")\n",
    "        break\n",
    "client_socket.close()"
   ]
  }
 ],
 "metadata": {
  "kernelspec": {
   "display_name": "Python 3 (ipykernel)",
   "language": "python",
   "name": "python3"
  },
  "language_info": {
   "codemirror_mode": {
    "name": "ipython",
    "version": 3
   },
   "file_extension": ".py",
   "mimetype": "text/x-python",
   "name": "python",
   "nbconvert_exporter": "python",
   "pygments_lexer": "ipython3",
   "version": "3.13.2"
  }
 },
 "nbformat": 4,
 "nbformat_minor": 5
}
