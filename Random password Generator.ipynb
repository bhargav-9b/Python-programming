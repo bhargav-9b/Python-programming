{
 "cells": [
  {
   "cell_type": "code",
   "execution_count": 8,
   "id": "54bafc9f-a8e4-44f7-a03e-4d9b76f4abe3",
   "metadata": {},
   "outputs": [
    {
     "name": "stdout",
     "output_type": "stream",
     "text": [
      "A A R 6 9 a G\n",
      "H G 3 g r 9 6\n",
      "a 7 B # R a V\n",
      "9 0 G @ B 1 7\n",
      "5 H # g v A B\n",
      "H g @ B 4 8 #\n"
     ]
    }
   ],
   "source": [
    "# Password generator\n",
    "import random # Different types of element random gaa generator avuthayii\n",
    "lower=\"bhargav\"\n",
    "upper=\"BHARGAV\"\n",
    "numbers=\"0123456789\"\n",
    "symbols=\"@#\"\n",
    "all=lower+upper+numbers+symbols\n",
    "lenght=7\n",
    "for i in range(6):    \n",
    "    password=\" \".join(random.sample(all,lenght))\n",
    "    print(password)"
   ]
  },
  {
   "cell_type": "code",
   "execution_count": null,
   "id": "e4febc2e-3ab0-4dd3-91c8-835dda4868a3",
   "metadata": {},
   "outputs": [
    {
     "name": "stdin",
     "output_type": "stream",
     "text": [
      "Enter password length:  6\n",
      "Do you want numbers (yes/no)?  yes\n",
      "Do you want to have special characters (yes/no)?  no\n"
     ]
    },
    {
     "name": "stdout",
     "output_type": "stream",
     "text": [
      "H g @ B 4 8 #\n"
     ]
    }
   ],
   "source": [
    "# Password generator\n",
    "import string\n",
    "import random\n",
    "def generate_password(min_length, numbers=True, special_characters=True):\n",
    "    letters = string.ascii_letters\n",
    "    digits = string.digits\n",
    "    special = string.punctuation\n",
    "\n",
    "    characters = letters\n",
    "    if numbers:\n",
    "        characters += digits\n",
    "    if special_characters:\n",
    "        characters += special\n",
    "\n",
    "    while True:\n",
    "        pwd = ''.join(random.choice(characters) for i in range(min_length))\n",
    "        if (numbers and any(c.isdigit() for c in pwd) and\n",
    "            special_characters and any(c in special for c in pwd)):\n",
    "            return pwd\n",
    "\n",
    "min_length = int(input(\"Enter password length: \"))\n",
    "has_number = input(\"Do you want numbers (yes/no)? \").lower() == \"yes\"\n",
    "has_special = input(\"Do you want to have special characters (yes/no)? \").lower() == \"yes\"  # Complete the input line\n",
    "lenght=6\n",
    "for i in range (6):\n",
    "    print(password)\n",
    "    password = generate_password(min_length, has_number, has_special)\n",
    "    print(\"Your generated password is:\", password)  # Print the password\n",
    "\n",
    "    "
   ]
  },
  {
   "cell_type": "code",
   "execution_count": null,
   "id": "ea204755-088e-4e1b-afab-142ccf484eed",
   "metadata": {},
   "outputs": [],
   "source": []
  }
 ],
 "metadata": {
  "kernelspec": {
   "display_name": "Python 3 (ipykernel)",
   "language": "python",
   "name": "python3"
  },
  "language_info": {
   "codemirror_mode": {
    "name": "ipython",
    "version": 3
   },
   "file_extension": ".py",
   "mimetype": "text/x-python",
   "name": "python",
   "nbconvert_exporter": "python",
   "pygments_lexer": "ipython3",
   "version": "3.13.2"
  }
 },
 "nbformat": 4,
 "nbformat_minor": 5
}
