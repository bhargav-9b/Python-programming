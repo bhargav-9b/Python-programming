{
 "cells": [
  {
   "cell_type": "code",
   "execution_count": null,
   "id": "dfb9dafb-0a50-4ade-a0f0-8aee91e52cd3",
   "metadata": {},
   "outputs": [
    {
     "name": "stdout",
     "output_type": "stream",
     "text": [
      "Welcomw to the BMI calculator\n"
     ]
    },
    {
     "name": "stdin",
     "output_type": "stream",
     "text": [
      "Enter Your Weight in kilograms (kg): 55\n"
     ]
    }
   ],
   "source": [
    "# prompt: Idea: BMI Calculator\n",
    "#Model - 1\n",
    "def calculate_bmi(weight,height):\n",
    "    bmi=weight/(height**2)\n",
    "    return bmi\n",
    "def categorize_bmi(bmi):\n",
    "    if bmi<18.5:\n",
    "        return \"Undeweight\"\n",
    "    elif 18.5<=bmi<24.9:\n",
    "        return \"Normal weight\"\n",
    "    else:\n",
    "        return \"Obesity\"\n",
    "\n",
    "def main():\n",
    "    print(\"Welcomw to the BMI calculator\")\n",
    "    try:\n",
    "        weight=float(input(\"Enter Your Weight in kilograms (kg):\"))\n",
    "        height=float(input(\"Enter your height in meters(m):\"))\n",
    "\n",
    "        if weight<=0 or height<=0:\n",
    "            print(\"Weight and height must be positive values.\")\n",
    "            return\n",
    "\n",
    "        bmi=calculate_bmi(weight,height)\n",
    "        category=categorize_bmi(bmi)\n",
    "\n",
    "        print(f\"Your BMI is:{bmi:.2f}\")\n",
    "        print(f\"Category:{category}\")\n",
    "\n",
    "    except ValueError:\n",
    "        print(\"Please enter vaild numerical values for weight and height.\")\n",
    "\n",
    "if __name__==\"__main__\":\n",
    "   main()"
   ]
  },
  {
   "cell_type": "code",
   "execution_count": 1,
   "id": "9c29503b-0b90-4cc0-9ec4-e9c4bf39fab7",
   "metadata": {},
   "outputs": [
    {
     "name": "stdout",
     "output_type": "stream",
     "text": [
      "Welcome to the BMI Calculator!\n"
     ]
    },
    {
     "name": "stdin",
     "output_type": "stream",
     "text": [
      "Enter your height in meters:  4\n"
     ]
    },
    {
     "name": "stdout",
     "output_type": "stream",
     "text": [
      "Your BMI is: 3.44\n",
      "You are categorized as: Underweight\n"
     ]
    },
    {
     "name": "stdin",
     "output_type": "stream",
     "text": [
      "Do you want to calculate another BMI? (yes/no):  4\n"
     ]
    }
   ],
   "source": [
    "# prompt: Idea: BMI Calculator\n",
    "#Model - 2\n",
    "def calculate_bmi(weight, height):\n",
    "  \"\"\"Calculates BMI and returns the BMI value and category.\"\"\"\n",
    "  try:\n",
    "    bmi = weight / (height ** 2)\n",
    "    if bmi < 18.5:\n",
    "      category = \"Underweight\"\n",
    "    elif 18.5 <= bmi < 24.9:\n",
    "      category = \"Normal Weight\"\n",
    "    elif 25 <= bmi < 29.9:\n",
    "      category = \"Overweight\"\n",
    "    else:\n",
    "      category = \"Obese\"\n",
    "    return bmi, category\n",
    "  except ZeroDivisionError:\n",
    "    return None, \"Invalid Input: Height cannot be zero.\"\n",
    "\n",
    "\n",
    "def main():\n",
    "  \"\"\"Main function to run the BMI calculator.\"\"\"\n",
    "  print(\"Welcome to the BMI Calculator!\")\n",
    "  while True:\n",
    "    try:\n",
    "      weight = float(input(\"Enter your weight in kilograms: \"))\n",
    "      height = float(input(\"Enter your height in meters: \"))\n",
    "      bmi, category = calculate_bmi(weight, height)\n",
    "      if bmi is not None:\n",
    "        print(\"Your BMI is:\", round(bmi, 2))\n",
    "        print(\"You are categorized as:\", category)\n",
    "      else:\n",
    "        print(category)\n",
    "    except ValueError:\n",
    "      print(\"Invalid input. Please enter numeric values for weight and height.\")\n",
    "    another_calculation = input(\"Do you want to calculate another BMI? (yes/no): \")\n",
    "    if another_calculation.lower() != \"yes\":\n",
    "      break\n",
    "\n",
    "\n",
    "if __name__ == \"__main__\":\n",
    "  main()\n"
   ]
  }
 ],
 "metadata": {
  "kernelspec": {
   "display_name": "Python 3 (ipykernel)",
   "language": "python",
   "name": "python3"
  },
  "language_info": {
   "codemirror_mode": {
    "name": "ipython",
    "version": 3
   },
   "file_extension": ".py",
   "mimetype": "text/x-python",
   "name": "python",
   "nbconvert_exporter": "python",
   "pygments_lexer": "ipython3",
   "version": "3.13.2"
  }
 },
 "nbformat": 4,
 "nbformat_minor": 5
}
