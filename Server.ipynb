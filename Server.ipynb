{
 "cells": [
  {
   "cell_type": "code",
   "execution_count": 1,
   "id": "c388a3fc-1bf0-449c-80f2-8ba0cb1faabb",
   "metadata": {},
   "outputs": [
    {
     "name": "stdout",
     "output_type": "stream",
     "text": [
      "Server is listening on localhost:12345\n",
      "Connection from ('127.0.0.1', 59163)\n",
      "Received from client: hello\n"
     ]
    },
    {
     "name": "stdin",
     "output_type": "stream",
     "text": [
      "Enter the message:  hi\n"
     ]
    },
    {
     "name": "stdout",
     "output_type": "stream",
     "text": [
      "Received from client: how are you\n"
     ]
    },
    {
     "name": "stdin",
     "output_type": "stream",
     "text": [
      "Enter the message:  iam fine!\n"
     ]
    },
    {
     "name": "stdout",
     "output_type": "stream",
     "text": [
      "Received from client: What about you\n"
     ]
    },
    {
     "name": "stdin",
     "output_type": "stream",
     "text": [
      "Enter the message:  iam ok!\n"
     ]
    },
    {
     "name": "stdout",
     "output_type": "stream",
     "text": [
      "Received from client: bye\n",
      "Client sent 'bye': closing connection\n"
     ]
    }
   ],
   "source": [
    "#Server---->\n",
    "#Chat-Application\n",
    "# Import required modules\n",
    "import socket\n",
    "\n",
    "server_socket = socket.socket(socket.AF_INET, socket.SOCK_STREAM)\n",
    "host = 'localhost'\n",
    "port = 12345\n",
    "server_socket.bind((host, port))\n",
    "server_socket.listen(1)\n",
    "print(f\"Server is listening on {host}:{port}\")\n",
    "client_socket, client_address = server_socket.accept()\n",
    "print(f\"Connection from {client_address}\")\n",
    "\n",
    "while True:\n",
    "    data = client_socket.recv(1024)\n",
    "    print(f\"Received from client: {data.decode()}\")\n",
    "    if data.decode().lower() == \"bye\":\n",
    "        print(\"Client sent 'bye': closing connection\")\n",
    "        break\n",
    "    res_mess = input(\"Enter the message: \")\n",
    "    client_socket.send(res_mess.encode())\n",
    "    if(res_mess.lower()==\"bye\"):\n",
    "        print(\"closing connection....\")\n",
    "        break\n",
    "client_socket.close()\n",
    "server_socket.close()\n"
   ]
  }
 ],
 "metadata": {
  "kernelspec": {
   "display_name": "Python 3 (ipykernel)",
   "language": "python",
   "name": "python3"
  },
  "language_info": {
   "codemirror_mode": {
    "name": "ipython",
    "version": 3
   },
   "file_extension": ".py",
   "mimetype": "text/x-python",
   "name": "python",
   "nbconvert_exporter": "python",
   "pygments_lexer": "ipython3",
   "version": "3.13.2"
  }
 },
 "nbformat": 4,
 "nbformat_minor": 5
}
